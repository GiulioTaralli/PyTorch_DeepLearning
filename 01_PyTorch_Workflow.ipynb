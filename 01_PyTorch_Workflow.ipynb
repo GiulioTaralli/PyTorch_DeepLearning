{
 "cells": [
  {
   "cell_type": "code",
   "execution_count": 1,
   "metadata": {},
   "outputs": [
    {
     "data": {
      "text/plain": [
       "'2.6.0+cpu'"
      ]
     },
     "execution_count": 1,
     "metadata": {},
     "output_type": "execute_result"
    }
   ],
   "source": [
    "import torch\n",
    "from torch import nn # nn contains all of PyTorch's building blocks for neural networks\n",
    "import matplotlib.pyplot as plt\n",
    "import numpy as np\n",
    "from pathlib import Path\n",
    "\n",
    "torch.__version__"
   ]
  },
  {
   "cell_type": "markdown",
   "metadata": {},
   "source": [
    "## **PyTorch Workflow**"
   ]
  },
  {
   "cell_type": "markdown",
   "metadata": {},
   "source": [
    "### **Data (preparing and loading)**"
   ]
  },
  {
   "cell_type": "markdown",
   "metadata": {},
   "source": [
    "Data can be almost everything in machine learning. For example:\n",
    "* Exel spreadsheet\n",
    "* Images of any kind\n",
    "* Videos\n",
    "* Signals\n",
    "* DNA\n",
    "* Text\n",
    "* ...\n",
    "\n",
    "Machine learning is a game of two parts:\n",
    "* Get data into a numerical representation\n",
    "* Build a model to learn patterns in that numerical representation"
   ]
  },
  {
   "cell_type": "code",
   "execution_count": 2,
   "metadata": {},
   "outputs": [
    {
     "name": "stdout",
     "output_type": "stream",
     "text": [
      "Tensor X (first ten values):\n",
      " tensor([[0.0000],\n",
      "        [0.0200],\n",
      "        [0.0400],\n",
      "        [0.0600],\n",
      "        [0.0800],\n",
      "        [0.1000],\n",
      "        [0.1200],\n",
      "        [0.1400],\n",
      "        [0.1600],\n",
      "        [0.1800]])\n",
      "\n",
      "Array y (first ten values):\n",
      " tensor([[0.3000],\n",
      "        [0.3140],\n",
      "        [0.3280],\n",
      "        [0.3420],\n",
      "        [0.3560],\n",
      "        [0.3700],\n",
      "        [0.3840],\n",
      "        [0.3980],\n",
      "        [0.4120],\n",
      "        [0.4260]])\n"
     ]
    }
   ],
   "source": [
    "# Create *known* parameters\n",
    "weight = 0.7\n",
    "bias = 0.3\n",
    "\n",
    "# Create a tensor and and an array\n",
    "start = 0\n",
    "end = 1\n",
    "step = 0.02\n",
    "X = torch.arange(start, end, step).unsqueeze(dim=1)\n",
    "y = weight * X + bias\n",
    "\n",
    "print(f\"Tensor X (first ten values):\\n {X[:10]}\")\n",
    "print(f\"\\nArray y (first ten values):\\n {y[:10]}\")"
   ]
  },
  {
   "cell_type": "code",
   "execution_count": 3,
   "metadata": {},
   "outputs": [
    {
     "name": "stdout",
     "output_type": "stream",
     "text": [
      "Tensor X length: 50\n",
      "Array y length: 50\n"
     ]
    }
   ],
   "source": [
    "print(f\"Tensor X length: {len(X)}\")\n",
    "print(f\"Array y length: {len(y)}\")"
   ]
  },
  {
   "cell_type": "code",
   "execution_count": 4,
   "metadata": {},
   "outputs": [
    {
     "data": {
      "text/plain": [
       "(40, 40, 10, 10)"
      ]
     },
     "execution_count": 4,
     "metadata": {},
     "output_type": "execute_result"
    }
   ],
   "source": [
    "# Splitting the data into training and test sets\n",
    "# Create a train/test split\n",
    "train_split = int(0.8 * len(X))\n",
    "X_train, y_train = X[:train_split], y[:train_split]\n",
    "X_test, y_test = X[train_split:], y[train_split:]\n",
    "# Or you can split with the scikit-learn library\n",
    "len(X_train), len(y_train), len(X_test), len(y_test)"
   ]
  },
  {
   "cell_type": "code",
   "execution_count": 5,
   "metadata": {},
   "outputs": [],
   "source": [
    "def plot_predictions(train_data=X_train, train_labels=y_train, test_data=X_test, test_labels=y_test, predictions=None):\n",
    "    \"\"\"Plots training data, test data and compares predictions\"\"\"\n",
    "    plt.figure(figsize=(6,4))\n",
    "    \n",
    "    # Plot training data in blue\n",
    "    plt.scatter(train_data, train_labels, c=\"b\", s=4, label=\"Training data\")\n",
    "\n",
    "    # Plot test data in green\n",
    "    plt.scatter(test_data, test_labels, c=\"g\", s=4, label=\"Testing data\")\n",
    "\n",
    "    # Are there predictions?\n",
    "    if predictions is not None:\n",
    "        # Plot the predictions is they exist\n",
    "        plt.scatter(test_data, predictions, c=\"r\", s=4, label=\"Predictions\")\n",
    "    \n",
    "    #Show the legend\n",
    "    plt.legend(prop={\"size\":14})\n",
    "\n",
    "    # Show the plot\n",
    "    plt.show()"
   ]
  },
  {
   "cell_type": "code",
   "execution_count": 6,
   "metadata": {},
   "outputs": [
    {
     "data": {
      "image/png": "[encoded data removed]",
      "text/plain": [
       "<Figure size 600x400 with 1 Axes>"
      ]
     },
     "metadata": {},
     "output_type": "display_data"
    }
   ],
   "source": [
    "plot_predictions()"
   ]
  },
  {
   "cell_type": "markdown",
   "metadata": {},
   "source": [
    "### **Build model**"
   ]
  },
  {
   "cell_type": "code",
   "execution_count": 7,
   "metadata": {},
   "outputs": [],
   "source": [
    "# Create linear regression model class\n",
    "class LinearRegressionModel(nn.Module): # <- almost everything in PyTorch inherits from nn.Module\n",
    "    # Constructor\n",
    "    def __init__(self): \n",
    "        super().__init__()\n",
    "        \n",
    "        # Initialize model parameters\n",
    "        self.weight = nn.Parameter(torch.randn(1, requires_grad=True, dtype=torch.float))\n",
    "        self.bias = nn.Parameter(torch.randn(1, requires_grad=True, dtype=torch.float))\n",
    "\n",
    "    # Forward method to define the computation in the model\n",
    "    def forward(self, x: torch.Tensor) -> torch.Tensor: # <- \"x\" is the input data\n",
    "        return self.weight * x + self.bias # this is the linear regression formula"
   ]
  },
  {
   "cell_type": "markdown",
   "metadata": {},
   "source": [
    "**PyTorch model building essentials**\n",
    "* torch.nn - contains all of the buildings for computational graphs (a neural network can be considered a computational graph)\n",
    "* torch.nn.Parameter - what parameters should our model try and learn, often a PyTorch layer from torch.nn will set these for us\n",
    "* torch.nn.Module - the base class for all neural network modules, if you subclass it, you should overwrite forward()\n",
    "* torch.optim - this is where the optimizers in PyTorch live, they will help with gradient descent\n",
    "* def forward() - all nn.Module subclasses require you to overwrite forward(), this method define what happens in the forward computation"
   ]
  },
  {
   "cell_type": "code",
   "execution_count": 8,
   "metadata": {},
   "outputs": [
    {
     "data": {
      "text/plain": [
       "[Parameter containing:\n",
       " tensor([0.3367], requires_grad=True),\n",
       " Parameter containing:\n",
       " tensor([0.1288], requires_grad=True)]"
      ]
     },
     "execution_count": 8,
     "metadata": {},
     "output_type": "execute_result"
    }
   ],
   "source": [
    "# Create a random seed (for the reproducibility of the example, in reality we don't need to use a random seed)\n",
    "torch.manual_seed(42)\n",
    "\n",
    "# Create an instance of the model (this is a subclass of nn.Module)\n",
    "model_0 = LinearRegressionModel()\n",
    "\n",
    "# Check out the parameters\n",
    "list(model_0.parameters())"
   ]
  },
  {
   "cell_type": "code",
   "execution_count": 9,
   "metadata": {},
   "outputs": [
    {
     "data": {
      "text/plain": [
       "OrderedDict([('weight', tensor([0.3367])), ('bias', tensor([0.1288]))])"
      ]
     },
     "execution_count": 9,
     "metadata": {},
     "output_type": "execute_result"
    }
   ],
   "source": [
    "# List of named parameters\n",
    "model_0.state_dict()"
   ]
  },
  {
   "cell_type": "code",
   "execution_count": 10,
   "metadata": {},
   "outputs": [
    {
     "data": {
      "text/plain": [
       "(tensor([[0.8000],\n",
       "         [0.8200],\n",
       "         [0.8400],\n",
       "         [0.8600],\n",
       "         [0.8800],\n",
       "         [0.9000],\n",
       "         [0.9200],\n",
       "         [0.9400],\n",
       "         [0.9600],\n",
       "         [0.9800]]),\n",
       " tensor([[0.8600],\n",
       "         [0.8740],\n",
       "         [0.8880],\n",
       "         [0.9020],\n",
       "         [0.9160],\n",
       "         [0.9300],\n",
       "         [0.9440],\n",
       "         [0.9580],\n",
       "         [0.9720],\n",
       "         [0.9860]]))"
      ]
     },
     "execution_count": 10,
     "metadata": {},
     "output_type": "execute_result"
    }
   ],
   "source": [
    "X_test, y_test"
   ]
  },
  {
   "cell_type": "code",
   "execution_count": 11,
   "metadata": {},
   "outputs": [
    {
     "data": {
      "text/plain": [
       "tensor([[0.3982],\n",
       "        [0.4049],\n",
       "        [0.4116],\n",
       "        [0.4184],\n",
       "        [0.4251],\n",
       "        [0.4318],\n",
       "        [0.4386],\n",
       "        [0.4453],\n",
       "        [0.4520],\n",
       "        [0.4588]], grad_fn=<AddBackward0>)"
      ]
     },
     "execution_count": 11,
     "metadata": {},
     "output_type": "execute_result"
    }
   ],
   "source": [
    "y_preds = model_0(X_test)\n",
    "y_preds"
   ]
  },
  {
   "cell_type": "code",
   "execution_count": 12,
   "metadata": {},
   "outputs": [
    {
     "data": {
      "text/plain": [
       "tensor([[0.3982],\n",
       "        [0.4049],\n",
       "        [0.4116],\n",
       "        [0.4184],\n",
       "        [0.4251],\n",
       "        [0.4318],\n",
       "        [0.4386],\n",
       "        [0.4453],\n",
       "        [0.4520],\n",
       "        [0.4588]])"
      ]
     },
     "execution_count": 12,
     "metadata": {},
     "output_type": "execute_result"
    }
   ],
   "source": [
    "# Making prediction using torch.inference_mode()\n",
    "with torch.inference_mode(): \n",
    "    # The with statement ensures that everything inside its block executes within a specific context\n",
    "    # In this case the contex is: torch.inference_mode(), when the block ends Python exits the content, \n",
    "    # handling any necessary cleanup\n",
    "    y_preds = model_0(X_test)\n",
    "\n",
    "y_preds # If NotImplementedError show up: check the model class's indetation"
   ]
  },
  {
   "cell_type": "code",
   "execution_count": 13,
   "metadata": {},
   "outputs": [
    {
     "data": {
      "text/plain": [
       "'\\n    with torch.no_grad():\\n        y_preds = model_0(X_test)\\n'"
      ]
     },
     "execution_count": 13,
     "metadata": {},
     "output_type": "execute_result"
    }
   ],
   "source": [
    "# You can also do something similar with torch.no_grad(), however, torch.inference_mode() is preferred, so use that\n",
    "\"\"\"\n",
    "    with torch.no_grad():\n",
    "        y_preds = model_0(X_test)\n",
    "\"\"\""
   ]
  },
  {
   "cell_type": "code",
   "execution_count": 14,
   "metadata": {},
   "outputs": [
    {
     "data": {
      "image/png": "[encoded data removed]",
      "text/plain": [
       "<Figure size 600x400 with 1 Axes>"
      ]
     },
     "metadata": {},
     "output_type": "display_data"
    }
   ],
   "source": [
    "plot_predictions(predictions=y_preds)"
   ]
  },
  {
   "cell_type": "markdown",
   "metadata": {},
   "source": [
    "### **Train model**"
   ]
  },
  {
   "cell_type": "code",
   "execution_count": 15,
   "metadata": {},
   "outputs": [],
   "source": [
    "# Setup a loss function\n",
    "loss_fn = nn.L1Loss()\n",
    "\n",
    "# Setup an optimizer\n",
    "optimizer = torch.optim.SGD(params=model_0.parameters(), # Model's parameters\n",
    "                            lr=0.01)                     # Learning rate (defualt (for SDG) is 0.1)"
   ]
  },
  {
   "cell_type": "code",
   "execution_count": 16,
   "metadata": {},
   "outputs": [
    {
     "name": "stdout",
     "output_type": "stream",
     "text": [
      "Epoch: 0 | Loss: 0.31288138031959534 | Test loss: 0.48106518387794495\n",
      "Model parameters: OrderedDict([('weight', tensor([0.3406])), ('bias', tensor([0.1388]))])\n",
      "Epoch: 10 | Loss: 0.1976713240146637 | Test loss: 0.3463551998138428\n",
      "Model parameters: OrderedDict([('weight', tensor([0.3796])), ('bias', tensor([0.2388]))])\n",
      "Epoch: 20 | Loss: 0.08908725529909134 | Test loss: 0.21729660034179688\n",
      "Model parameters: OrderedDict([('weight', tensor([0.4184])), ('bias', tensor([0.3333]))])\n",
      "Epoch: 30 | Loss: 0.053148526698350906 | Test loss: 0.14464017748832703\n",
      "Model parameters: OrderedDict([('weight', tensor([0.4512])), ('bias', tensor([0.3768]))])\n",
      "Epoch: 40 | Loss: 0.04543796554207802 | Test loss: 0.11360953003168106\n",
      "Model parameters: OrderedDict([('weight', tensor([0.4748])), ('bias', tensor([0.3868]))])\n",
      "Epoch: 50 | Loss: 0.04167863354086876 | Test loss: 0.09919948130846024\n",
      "Model parameters: OrderedDict([('weight', tensor([0.4938])), ('bias', tensor([0.3843]))])\n",
      "Epoch: 60 | Loss: 0.03818932920694351 | Test loss: 0.08886633068323135\n",
      "Model parameters: OrderedDict([('weight', tensor([0.5116])), ('bias', tensor([0.3788]))])\n",
      "Epoch: 70 | Loss: 0.03476089984178543 | Test loss: 0.0805937647819519\n",
      "Model parameters: OrderedDict([('weight', tensor([0.5288])), ('bias', tensor([0.3718]))])\n",
      "Epoch: 80 | Loss: 0.03132382780313492 | Test loss: 0.07232122868299484\n",
      "Model parameters: OrderedDict([('weight', tensor([0.5459])), ('bias', tensor([0.3648]))])\n",
      "Epoch: 90 | Loss: 0.02788739837706089 | Test loss: 0.06473556160926819\n",
      "Model parameters: OrderedDict([('weight', tensor([0.5629])), ('bias', tensor([0.3573]))])\n",
      "Epoch: 100 | Loss: 0.024458957836031914 | Test loss: 0.05646304413676262\n",
      "Model parameters: OrderedDict([('weight', tensor([0.5800])), ('bias', tensor([0.3503]))])\n",
      "Epoch: 110 | Loss: 0.021020207554101944 | Test loss: 0.04819049686193466\n",
      "Model parameters: OrderedDict([('weight', tensor([0.5972])), ('bias', tensor([0.3433]))])\n",
      "Epoch: 120 | Loss: 0.01758546568453312 | Test loss: 0.04060482233762741\n",
      "Model parameters: OrderedDict([('weight', tensor([0.6141])), ('bias', tensor([0.3358]))])\n",
      "Epoch: 130 | Loss: 0.014155393466353416 | Test loss: 0.03233227878808975\n",
      "Model parameters: OrderedDict([('weight', tensor([0.6313])), ('bias', tensor([0.3288]))])\n",
      "Epoch: 140 | Loss: 0.010716589167714119 | Test loss: 0.024059748277068138\n",
      "Model parameters: OrderedDict([('weight', tensor([0.6485])), ('bias', tensor([0.3218]))])\n",
      "Epoch: 150 | Loss: 0.0072835334576666355 | Test loss: 0.016474086791276932\n",
      "Model parameters: OrderedDict([('weight', tensor([0.6654])), ('bias', tensor([0.3143]))])\n",
      "Epoch: 160 | Loss: 0.0038517764769494534 | Test loss: 0.008201557211577892\n",
      "Model parameters: OrderedDict([('weight', tensor([0.6826])), ('bias', tensor([0.3073]))])\n",
      "Epoch: 170 | Loss: 0.008932482451200485 | Test loss: 0.005023092031478882\n",
      "Model parameters: OrderedDict([('weight', tensor([0.6951])), ('bias', tensor([0.2993]))])\n",
      "Epoch: 180 | Loss: 0.008932482451200485 | Test loss: 0.005023092031478882\n",
      "Model parameters: OrderedDict([('weight', tensor([0.6951])), ('bias', tensor([0.2993]))])\n",
      "Epoch: 190 | Loss: 0.008932482451200485 | Test loss: 0.005023092031478882\n",
      "Model parameters: OrderedDict([('weight', tensor([0.6951])), ('bias', tensor([0.2993]))])\n"
     ]
    }
   ],
   "source": [
    "torch.manual_seed(42)\n",
    "\n",
    "# Building a training loop (and testing loop) in PyTorch\n",
    "epochs = 200\n",
    "\n",
    "# Track different values\n",
    "epoch_count = []\n",
    "loss_values = []\n",
    "test_loss_values = []\n",
    "\n",
    "### Training\n",
    "# 0.Pass the data through the model for a number of epochs\n",
    "for epoch in range(epochs):\n",
    "    # Set the model to training mode\n",
    "    model_0.train() # Train mode in PyTorch sets all parameters that require gradients remain differentiable\n",
    "                    # This is done because some PyTorch layers and functions behave differently depending on \n",
    "                    # whether you are in train or eval mode (this is the default state of a model)\n",
    "\n",
    "    # 1. Forward pass on train data using the forward() method inside\n",
    "    y_pred = model_0(X_train)\n",
    "\n",
    "    # 2. Calculate the loss (how different are the model's predictions to the true values)\n",
    "    loss = loss_fn(y_pred, y_train) # Order: input, target\n",
    "\n",
    "    # 3. Zero the gradients of the optimizer (they accumulate by default)\n",
    "    optimizer.zero_grad()\n",
    "\n",
    "    # 4. Permorm backpropagation on the loss\n",
    "    loss.backward()\n",
    "\n",
    "    # 5. Step the optimizer (perform gradient descent)\n",
    "    optimizer.step() # By default how the optimizer changes will accumulate through the loop, so we have to zero \n",
    "                     # them above in step 3 for the next iteration of the loop\n",
    "\n",
    "    ### Testing\n",
    "    model_0.eval() # Turn off different settings in the model not needed for evalutation/testing (dropout/batch norm layers)\n",
    "    with torch.inference_mode(): # Turn off gradient tracking & couple more things behind the scenes\n",
    "        # 1. Do the forward pass\n",
    "        test_pred = model_0(X_test)\n",
    "\n",
    "        # 2. Calculate the loss\n",
    "        test_loss = loss_fn(test_pred, y_test)\n",
    "    \n",
    "    # Print out what's happening\n",
    "    if epoch % 10 == 0:\n",
    "        epoch_count.append(epoch)\n",
    "        loss_values.append(loss)\n",
    "        test_loss_values.append(test_loss)\n",
    "        print(f\"Epoch: {epoch} | Loss: {loss} | Test loss: {test_loss}\")\n",
    "        # Print out model state_dict()\n",
    "        print(f\"Model parameters: {model_0.state_dict()}\")"
   ]
  },
  {
   "cell_type": "code",
   "execution_count": 17,
   "metadata": {},
   "outputs": [
    {
     "data": {
      "text/plain": [
       "(0.7, 0.3)"
      ]
     },
     "execution_count": 17,
     "metadata": {},
     "output_type": "execute_result"
    }
   ],
   "source": [
    "weight, bias"
   ]
  },
  {
   "cell_type": "code",
   "execution_count": 18,
   "metadata": {},
   "outputs": [
    {
     "data": {
      "text/plain": [
       "tensor([[0.8685],\n",
       "        [0.8825],\n",
       "        [0.8965],\n",
       "        [0.9105],\n",
       "        [0.9245],\n",
       "        [0.9384],\n",
       "        [0.9524],\n",
       "        [0.9664],\n",
       "        [0.9804],\n",
       "        [0.9944]])"
      ]
     },
     "execution_count": 18,
     "metadata": {},
     "output_type": "execute_result"
    }
   ],
   "source": [
    "with torch.inference_mode():\n",
    "    y_preds_new = model_0(X_test)\n",
    "\n",
    "y_preds_new"
   ]
  },
  {
   "cell_type": "code",
   "execution_count": 19,
   "metadata": {},
   "outputs": [
    {
     "data": {
      "image/png": "[encoded data removed]",
      "text/plain": [
       "<Figure size 600x400 with 1 Axes>"
      ]
     },
     "metadata": {},
     "output_type": "display_data"
    }
   ],
   "source": [
    "plot_predictions(predictions=y_preds_new)"
   ]
  },
  {
   "cell_type": "code",
   "execution_count": 20,
   "metadata": {},
   "outputs": [
    {
     "data": {
      "text/plain": [
       "([0,\n",
       "  10,\n",
       "  20,\n",
       "  30,\n",
       "  40,\n",
       "  50,\n",
       "  60,\n",
       "  70,\n",
       "  80,\n",
       "  90,\n",
       "  100,\n",
       "  110,\n",
       "  120,\n",
       "  130,\n",
       "  140,\n",
       "  150,\n",
       "  160,\n",
       "  170,\n",
       "  180,\n",
       "  190],\n",
       " [tensor(0.3129, grad_fn=<MeanBackward0>),\n",
       "  tensor(0.1977, grad_fn=<MeanBackward0>),\n",
       "  tensor(0.0891, grad_fn=<MeanBackward0>),\n",
       "  tensor(0.0531, grad_fn=<MeanBackward0>),\n",
       "  tensor(0.0454, grad_fn=<MeanBackward0>),\n",
       "  tensor(0.0417, grad_fn=<MeanBackward0>),\n",
       "  tensor(0.0382, grad_fn=<MeanBackward0>),\n",
       "  tensor(0.0348, grad_fn=<MeanBackward0>),\n",
       "  tensor(0.0313, grad_fn=<MeanBackward0>),\n",
       "  tensor(0.0279, grad_fn=<MeanBackward0>),\n",
       "  tensor(0.0245, grad_fn=<MeanBackward0>),\n",
       "  tensor(0.0210, grad_fn=<MeanBackward0>),\n",
       "  tensor(0.0176, grad_fn=<MeanBackward0>),\n",
       "  tensor(0.0142, grad_fn=<MeanBackward0>),\n",
       "  tensor(0.0107, grad_fn=<MeanBackward0>),\n",
       "  tensor(0.0073, grad_fn=<MeanBackward0>),\n",
       "  tensor(0.0039, grad_fn=<MeanBackward0>),\n",
       "  tensor(0.0089, grad_fn=<MeanBackward0>),\n",
       "  tensor(0.0089, grad_fn=<MeanBackward0>),\n",
       "  tensor(0.0089, grad_fn=<MeanBackward0>)],\n",
       " [tensor(0.4811),\n",
       "  tensor(0.3464),\n",
       "  tensor(0.2173),\n",
       "  tensor(0.1446),\n",
       "  tensor(0.1136),\n",
       "  tensor(0.0992),\n",
       "  tensor(0.0889),\n",
       "  tensor(0.0806),\n",
       "  tensor(0.0723),\n",
       "  tensor(0.0647),\n",
       "  tensor(0.0565),\n",
       "  tensor(0.0482),\n",
       "  tensor(0.0406),\n",
       "  tensor(0.0323),\n",
       "  tensor(0.0241),\n",
       "  tensor(0.0165),\n",
       "  tensor(0.0082),\n",
       "  tensor(0.0050),\n",
       "  tensor(0.0050),\n",
       "  tensor(0.0050)])"
      ]
     },
     "execution_count": 20,
     "metadata": {},
     "output_type": "execute_result"
    }
   ],
   "source": [
    "epoch_count, loss_values, test_loss_values"
   ]
  },
  {
   "cell_type": "code",
   "execution_count": 21,
   "metadata": {},
   "outputs": [
    {
     "data": {
      "image/png": "[encoded data removed]",
      "text/plain": [
       "<Figure size 640x480 with 1 Axes>"
      ]
     },
     "metadata": {},
     "output_type": "display_data"
    }
   ],
   "source": [
    "# Plot loss curves (MatPlotLib works with NumPy!)\n",
    "plt.plot(epoch_count, np.array(torch.tensor(loss_values).numpy()), label=\"Train loss\")\n",
    "plt.plot(epoch_count, test_loss_values, label=\"Test loss\")\n",
    "plt.title(\"Training and test loss curves\")\n",
    "plt.ylabel(\"Loss\")\n",
    "plt.xlabel(\"Epochs\")\n",
    "plt.legend();"
   ]
  },
  {
   "cell_type": "markdown",
   "metadata": {},
   "source": [
    "### **Saving a model in PyTorch**"
   ]
  },
  {
   "cell_type": "markdown",
   "metadata": {},
   "source": [
    "There are three main methods you should about for saving and loading model in PyTorch:\n",
    "1. `torch.save()` - allows you save a PyTorch object in Python's pickle format (a type of object)\n",
    "2. `torch.load()` - allows you load a saved PyTorch object\n",
    "3. `torch.nn.Module.load_state_dict()` - this allows to load a model's saved state dictionary\n",
    "\n",
    "Documentation: https://pytorch.org/tutorials/beginner/saving_loading_models.html"
   ]
  },
  {
   "cell_type": "code",
   "execution_count": 22,
   "metadata": {},
   "outputs": [
    {
     "data": {
      "text/plain": [
       "OrderedDict([('weight', tensor([0.6990])), ('bias', tensor([0.3093]))])"
      ]
     },
     "execution_count": 22,
     "metadata": {},
     "output_type": "execute_result"
    }
   ],
   "source": [
    "model_0.state_dict()"
   ]
  },
  {
   "cell_type": "code",
   "execution_count": 23,
   "metadata": {},
   "outputs": [
    {
     "data": {
      "text/plain": [
       "{'state': {},\n",
       " 'param_groups': [{'lr': 0.01,\n",
       "   'momentum': 0,\n",
       "   'dampening': 0,\n",
       "   'weight_decay': 0,\n",
       "   'nesterov': False,\n",
       "   'maximize': False,\n",
       "   'foreach': None,\n",
       "   'differentiable': False,\n",
       "   'fused': None,\n",
       "   'params': [0, 1]}]}"
      ]
     },
     "execution_count": 23,
     "metadata": {},
     "output_type": "execute_result"
    }
   ],
   "source": [
    "optimizer.state_dict()"
   ]
  },
  {
   "cell_type": "code",
   "execution_count": 24,
   "metadata": {},
   "outputs": [
    {
     "name": "stdout",
     "output_type": "stream",
     "text": [
      "Saving model to: models\\01_PyTorch_Workflow_model_0.pth\n",
      "Model saved\n"
     ]
    }
   ],
   "source": [
    "# Saving the PyTorch model\n",
    "\n",
    "# 1. Create models directory\n",
    "MODEL_PATH = Path(\"models\")\n",
    "MODEL_PATH.mkdir(parents=True, exist_ok=True) # Create a new directory inside the project's folder\n",
    "\n",
    "# 2. Create model save path\n",
    "MODEL_NAME = \"01_PyTorch_Workflow_model_0.pth\" # Python objects have .pth or .pt extension for PyTorch\n",
    "MODEL_SAVE_PATH = MODEL_PATH / MODEL_NAME\n",
    "print(f\"Saving model to: {MODEL_SAVE_PATH}\")\n",
    "\n",
    "# 3. Save the model state dict\n",
    "torch.save(obj=model_0.state_dict(), f=MODEL_SAVE_PATH)\n",
    "print(f\"Model saved\")"
   ]
  },
  {
   "cell_type": "code",
   "execution_count": 25,
   "metadata": {},
   "outputs": [],
   "source": [
    "#!dir models"
   ]
  },
  {
   "cell_type": "markdown",
   "metadata": {},
   "source": [
    "### **Loading a PyTorch model**"
   ]
  },
  {
   "cell_type": "markdown",
   "metadata": {},
   "source": [
    "Since we saved our model's `state_dict()` rather the entire model, we'll create a new instance of our model class and load the saved `state_dict()` into that."
   ]
  },
  {
   "cell_type": "code",
   "execution_count": 26,
   "metadata": {},
   "outputs": [
    {
     "data": {
      "text/plain": [
       "<All keys matched successfully>"
      ]
     },
     "execution_count": 26,
     "metadata": {},
     "output_type": "execute_result"
    }
   ],
   "source": [
    "# To load in a saved state_dict() we have to instantiate a new instance of our model class\n",
    "loaded_model_0 = LinearRegressionModel()\n",
    "\n",
    "# Load the saved state_dict of model_0 (this will update the new instance with update parameters)\n",
    "loaded_model_0.load_state_dict(torch.load(f=MODEL_SAVE_PATH))"
   ]
  },
  {
   "cell_type": "code",
   "execution_count": 27,
   "metadata": {},
   "outputs": [
    {
     "name": "stdout",
     "output_type": "stream",
     "text": [
      "model_0 state_dict(): OrderedDict([('weight', tensor([0.6990])), ('bias', tensor([0.3093]))])\n",
      "loaded_model_0 state dict(): OrderedDict([('weight', tensor([0.6990])), ('bias', tensor([0.3093]))])\n"
     ]
    }
   ],
   "source": [
    "print(f\"model_0 state_dict(): {model_0.state_dict()}\")\n",
    "print(f\"loaded_model_0 state dict(): {loaded_model_0.state_dict()}\")"
   ]
  },
  {
   "cell_type": "code",
   "execution_count": 28,
   "metadata": {},
   "outputs": [
    {
     "data": {
      "text/plain": [
       "tensor([[0.8685],\n",
       "        [0.8825],\n",
       "        [0.8965],\n",
       "        [0.9105],\n",
       "        [0.9245],\n",
       "        [0.9384],\n",
       "        [0.9524],\n",
       "        [0.9664],\n",
       "        [0.9804],\n",
       "        [0.9944]])"
      ]
     },
     "execution_count": 28,
     "metadata": {},
     "output_type": "execute_result"
    }
   ],
   "source": [
    "# Make some prediction with our loaded model\n",
    "loaded_model_0.eval()\n",
    "with torch.inference_mode():\n",
    "    loaded_model_preds = loaded_model_0(X_test)\n",
    "\n",
    "loaded_model_preds"
   ]
  },
  {
   "cell_type": "code",
   "execution_count": 29,
   "metadata": {},
   "outputs": [
    {
     "data": {
      "text/plain": [
       "tensor([[True],\n",
       "        [True],\n",
       "        [True],\n",
       "        [True],\n",
       "        [True],\n",
       "        [True],\n",
       "        [True],\n",
       "        [True],\n",
       "        [True],\n",
       "        [True]])"
      ]
     },
     "execution_count": 29,
     "metadata": {},
     "output_type": "execute_result"
    }
   ],
   "source": [
    "# Compare loaded model preds with original model preds\n",
    "y_preds_new == loaded_model_preds"
   ]
  },
  {
   "cell_type": "markdown",
   "metadata": {},
   "source": [
    "### **Putting all together**"
   ]
  },
  {
   "cell_type": "code",
   "execution_count": 30,
   "metadata": {},
   "outputs": [
    {
     "name": "stdout",
     "output_type": "stream",
     "text": [
      "Using device: cpu\n"
     ]
    }
   ],
   "source": [
    "# Setup device agnostic code\n",
    "device = \"cuda\" if torch.cuda.is_available() else \"cpu\"\n",
    "print(f\"Using device: {device}\")"
   ]
  },
  {
   "cell_type": "code",
   "execution_count": 31,
   "metadata": {},
   "outputs": [],
   "source": [
    "#!nvidia-smi"
   ]
  },
  {
   "cell_type": "markdown",
   "metadata": {},
   "source": [
    "#### **6.1 Creating data**"
   ]
  },
  {
   "cell_type": "code",
   "execution_count": 32,
   "metadata": {},
   "outputs": [
    {
     "data": {
      "text/plain": [
       "(tensor([[0.0000],\n",
       "         [0.0200],\n",
       "         [0.0400],\n",
       "         [0.0600],\n",
       "         [0.0800],\n",
       "         [0.1000],\n",
       "         [0.1200],\n",
       "         [0.1400],\n",
       "         [0.1600],\n",
       "         [0.1800]]),\n",
       " tensor([[0.3000],\n",
       "         [0.3140],\n",
       "         [0.3280],\n",
       "         [0.3420],\n",
       "         [0.3560],\n",
       "         [0.3700],\n",
       "         [0.3840],\n",
       "         [0.3980],\n",
       "         [0.4120],\n",
       "         [0.4260]]))"
      ]
     },
     "execution_count": 32,
     "metadata": {},
     "output_type": "execute_result"
    }
   ],
   "source": [
    "# Create some data using the linear regression formula y = xw + b\n",
    "weight = 0.7\n",
    "bias = 0.3\n",
    "\n",
    "# Create range value\n",
    "start = 0\n",
    "end = 1\n",
    "step = 0.02\n",
    "\n",
    "# Create X and y (features and labels)\n",
    "X = torch.arange(start, end, step).unsqueeze(dim=1) # Without unsqueeze, errors will pop up\n",
    "y = weight * X + bias\n",
    "X[:10], y[:10]"
   ]
  },
  {
   "cell_type": "code",
   "execution_count": 33,
   "metadata": {},
   "outputs": [
    {
     "data": {
      "text/plain": [
       "(40, 40, 10, 10)"
      ]
     },
     "execution_count": 33,
     "metadata": {},
     "output_type": "execute_result"
    }
   ],
   "source": [
    "# Split data\n",
    "train_split = int(0.8 * len(X))\n",
    "X_train, y_train = X[:train_split], y[:train_split]\n",
    "X_test, y_test = X[train_split:], y[train_split:]\n",
    "\n",
    "len(X_train), len(y_train), len(X_test), len(y_test)"
   ]
  },
  {
   "cell_type": "code",
   "execution_count": 34,
   "metadata": {},
   "outputs": [
    {
     "data": {
      "image/png": "[encoded data removed]",
      "text/plain": [
       "<Figure size 600x400 with 1 Axes>"
      ]
     },
     "metadata": {},
     "output_type": "display_data"
    }
   ],
   "source": [
    "plot_predictions(X_train, y_train, X_test, y_test)"
   ]
  },
  {
   "cell_type": "markdown",
   "metadata": {},
   "source": [
    "#### **6.2 Building a PyTorch linear model**"
   ]
  },
  {
   "cell_type": "code",
   "execution_count": 35,
   "metadata": {},
   "outputs": [
    {
     "data": {
      "text/plain": [
       "(LinearRegressionModelv2(\n",
       "   (linear_layer): Linear(in_features=1, out_features=1, bias=True)\n",
       " ),\n",
       " OrderedDict([('linear_layer.weight', tensor([[0.7645]])),\n",
       "              ('linear_layer.bias', tensor([0.8300]))]))"
      ]
     },
     "execution_count": 35,
     "metadata": {},
     "output_type": "execute_result"
    }
   ],
   "source": [
    "# Create a lineare model by subclassing nn.Module\n",
    "class LinearRegressionModelv2(nn.Module):\n",
    "    def __init__(self):\n",
    "        super().__init__()\n",
    "\n",
    "        # Use nn.Linear() for creating the model parameters\n",
    "        self.linear_layer = nn.Linear(in_features=1,  # Number (dimension) of the input\n",
    "                                      out_features=1) # Number (dimension) of the output\n",
    "\n",
    "    def forward(self, x: torch.Tensor) -> torch.Tensor: # x: torch.Tensor (type input), -> torch.Tensor (type output)\n",
    "        return self.linear_layer(x)\n",
    "    \n",
    "# Set the manual seed\n",
    "torch.manual_seed(42)\n",
    "model_1 = LinearRegressionModelv2()\n",
    "model_1, model_1.state_dict()"
   ]
  },
  {
   "cell_type": "code",
   "execution_count": 36,
   "metadata": {},
   "outputs": [
    {
     "data": {
      "text/plain": [
       "device(type='cpu')"
      ]
     },
     "execution_count": 36,
     "metadata": {},
     "output_type": "execute_result"
    }
   ],
   "source": [
    "# Check the model current device\n",
    "next(model_1.parameters()).device"
   ]
  },
  {
   "cell_type": "code",
   "execution_count": 37,
   "metadata": {},
   "outputs": [
    {
     "data": {
      "text/plain": [
       "device(type='cpu')"
      ]
     },
     "execution_count": 37,
     "metadata": {},
     "output_type": "execute_result"
    }
   ],
   "source": [
    "# Set the module to use the target device\n",
    "model_1.to(device)\n",
    "next(model_1.parameters()).device"
   ]
  },
  {
   "cell_type": "markdown",
   "metadata": {},
   "source": [
    "#### **6.3 Training**"
   ]
  },
  {
   "cell_type": "code",
   "execution_count": 38,
   "metadata": {},
   "outputs": [],
   "source": [
    "# Setup loss function\n",
    "loss_fn = nn.L1Loss()\n",
    "\n",
    "# Setup optimizer\n",
    "optimizer = torch.optim.SGD(params=model_1.parameters(), lr=0.01)"
   ]
  },
  {
   "cell_type": "code",
   "execution_count": 39,
   "metadata": {},
   "outputs": [
    {
     "name": "stdout",
     "output_type": "stream",
     "text": [
      "Epoch: 0 | Loss: 0.5551779866218567 | Test loss: 0.5739762187004089\n",
      "Model parameters: OrderedDict([('linear_layer.weight', tensor([[0.7606]])), ('linear_layer.bias', tensor([0.8200]))])\n",
      "Epoch: 10 | Loss: 0.4399680495262146 | Test loss: 0.4392663538455963\n",
      "Model parameters: OrderedDict([('linear_layer.weight', tensor([[0.7216]])), ('linear_layer.bias', tensor([0.7200]))])\n",
      "Epoch: 20 | Loss: 0.3247582018375397 | Test loss: 0.30455657839775085\n",
      "Model parameters: OrderedDict([('linear_layer.weight', tensor([[0.6826]])), ('linear_layer.bias', tensor([0.6200]))])\n",
      "Epoch: 30 | Loss: 0.20954827964305878 | Test loss: 0.16984674334526062\n",
      "Model parameters: OrderedDict([('linear_layer.weight', tensor([[0.6436]])), ('linear_layer.bias', tensor([0.5200]))])\n",
      "Epoch: 40 | Loss: 0.09433844685554504 | Test loss: 0.03513689711689949\n",
      "Model parameters: OrderedDict([('linear_layer.weight', tensor([[0.6046]])), ('linear_layer.bias', tensor([0.4200]))])\n",
      "Epoch: 50 | Loss: 0.023886386305093765 | Test loss: 0.04784906655550003\n",
      "Model parameters: OrderedDict([('linear_layer.weight', tensor([[0.5872]])), ('linear_layer.bias', tensor([0.3525]))])\n",
      "Epoch: 60 | Loss: 0.0199567973613739 | Test loss: 0.04580312222242355\n",
      "Model parameters: OrderedDict([('linear_layer.weight', tensor([[0.6025]])), ('linear_layer.bias', tensor([0.3410]))])\n",
      "Epoch: 70 | Loss: 0.016517987474799156 | Test loss: 0.0375305712223053\n",
      "Model parameters: OrderedDict([('linear_layer.weight', tensor([[0.6196]])), ('linear_layer.bias', tensor([0.3340]))])\n",
      "Epoch: 80 | Loss: 0.013089170679450035 | Test loss: 0.029944902285933495\n",
      "Model parameters: OrderedDict([('linear_layer.weight', tensor([[0.6366]])), ('linear_layer.bias', tensor([0.3265]))])\n",
      "Epoch: 90 | Loss: 0.009653178043663502 | Test loss: 0.02167237363755703\n",
      "Model parameters: OrderedDict([('linear_layer.weight', tensor([[0.6537]])), ('linear_layer.bias', tensor([0.3195]))])\n",
      "Epoch: 100 | Loss: 0.006215679459273815 | Test loss: 0.014086711220443249\n",
      "Model parameters: OrderedDict([('linear_layer.weight', tensor([[0.6707]])), ('linear_layer.bias', tensor([0.3120]))])\n",
      "Epoch: 110 | Loss: 0.002787243574857712 | Test loss: 0.005814164876937866\n",
      "Model parameters: OrderedDict([('linear_layer.weight', tensor([[0.6878]])), ('linear_layer.bias', tensor([0.3050]))])\n",
      "Epoch: 120 | Loss: 0.0012645035749301314 | Test loss: 0.013801807537674904\n",
      "Model parameters: OrderedDict([('linear_layer.weight', tensor([[0.6929]])), ('linear_layer.bias', tensor([0.2925]))])\n",
      "Epoch: 130 | Loss: 0.0012645035749301314 | Test loss: 0.013801807537674904\n",
      "Model parameters: OrderedDict([('linear_layer.weight', tensor([[0.6929]])), ('linear_layer.bias', tensor([0.2925]))])\n",
      "Epoch: 140 | Loss: 0.0012645035749301314 | Test loss: 0.013801807537674904\n",
      "Model parameters: OrderedDict([('linear_layer.weight', tensor([[0.6929]])), ('linear_layer.bias', tensor([0.2925]))])\n",
      "Epoch: 150 | Loss: 0.0012645035749301314 | Test loss: 0.013801807537674904\n",
      "Model parameters: OrderedDict([('linear_layer.weight', tensor([[0.6929]])), ('linear_layer.bias', tensor([0.2925]))])\n",
      "Epoch: 160 | Loss: 0.0012645035749301314 | Test loss: 0.013801807537674904\n",
      "Model parameters: OrderedDict([('linear_layer.weight', tensor([[0.6929]])), ('linear_layer.bias', tensor([0.2925]))])\n",
      "Epoch: 170 | Loss: 0.0012645035749301314 | Test loss: 0.013801807537674904\n",
      "Model parameters: OrderedDict([('linear_layer.weight', tensor([[0.6929]])), ('linear_layer.bias', tensor([0.2925]))])\n",
      "Epoch: 180 | Loss: 0.0012645035749301314 | Test loss: 0.013801807537674904\n",
      "Model parameters: OrderedDict([('linear_layer.weight', tensor([[0.6929]])), ('linear_layer.bias', tensor([0.2925]))])\n",
      "Epoch: 190 | Loss: 0.0012645035749301314 | Test loss: 0.013801807537674904\n",
      "Model parameters: OrderedDict([('linear_layer.weight', tensor([[0.6929]])), ('linear_layer.bias', tensor([0.2925]))])\n"
     ]
    }
   ],
   "source": [
    "### Training loop\n",
    "torch.manual_seed(42)\n",
    "\n",
    "epochs = 200\n",
    "\n",
    "# Put data on the target device (device agnoistic code for data)\n",
    "X_train.to(device)\n",
    "y_train.to(device)\n",
    "X_test.to(device)\n",
    "y_test.to(device)\n",
    "\n",
    "for epoch in range(epochs):\n",
    "    model_1.train()\n",
    "    y_pred = model_1(X_train)\n",
    "    loss = loss_fn(y_pred, y_train)\n",
    "    optimizer.zero_grad()\n",
    "    loss.backward()\n",
    "    optimizer.step()\n",
    "\n",
    "    ### Testing\n",
    "    model_1.eval()\n",
    "    with torch.inference_mode():\n",
    "        test_pred = model_1(X_test)\n",
    "        test_loss = loss_fn(test_pred, y_test)\n",
    "\n",
    "        if epoch % 10 == 0:\n",
    "            print(f\"Epoch: {epoch} | Loss: {loss} | Test loss: {test_loss}\")\n",
    "            print(f\"Model parameters: {model_1.state_dict()}\")\n",
    "            "
   ]
  },
  {
   "cell_type": "code",
   "execution_count": 40,
   "metadata": {},
   "outputs": [
    {
     "data": {
      "text/plain": [
       "OrderedDict([('linear_layer.weight', tensor([[0.6968]])),\n",
       "             ('linear_layer.bias', tensor([0.3025]))])"
      ]
     },
     "execution_count": 40,
     "metadata": {},
     "output_type": "execute_result"
    }
   ],
   "source": [
    "model_1.state_dict()"
   ]
  },
  {
   "cell_type": "code",
   "execution_count": 41,
   "metadata": {},
   "outputs": [
    {
     "data": {
      "text/plain": [
       "(0.7, 0.3)"
      ]
     },
     "execution_count": 41,
     "metadata": {},
     "output_type": "execute_result"
    }
   ],
   "source": [
    "weight, bias"
   ]
  },
  {
   "cell_type": "markdown",
   "metadata": {},
   "source": [
    "#### **6.4 Making and evaluating predictions**"
   ]
  },
  {
   "cell_type": "code",
   "execution_count": 42,
   "metadata": {},
   "outputs": [
    {
     "data": {
      "image/png": "[encoded data removed]",
      "text/plain": [
       "<Figure size 600x400 with 1 Axes>"
      ]
     },
     "metadata": {},
     "output_type": "display_data"
    }
   ],
   "source": [
    "# Turn model into evaluation mode\n",
    "model_1.eval()\n",
    "\n",
    "# Make predictions on the test data\n",
    "with torch.inference_mode():\n",
    "    y_preds_model_1 = model_1(X_test)\n",
    "\n",
    "# Check out our model predictions visually (remember: MatPlotLib work only in cpu mode)\n",
    "plot_predictions(predictions=y_preds_model_1.cpu())"
   ]
  },
  {
   "cell_type": "markdown",
   "metadata": {},
   "source": [
    "#### **6.5 Saving and loading a trained model**"
   ]
  },
  {
   "cell_type": "code",
   "execution_count": 43,
   "metadata": {},
   "outputs": [
    {
     "name": "stdout",
     "output_type": "stream",
     "text": [
      "Saving model to: models\\01_PyTorch_Workflow_model_1.pth\n",
      "Model saved\n"
     ]
    }
   ],
   "source": [
    "# 1. Create models directory\n",
    "MODEL_PATH = Path(\"models\")\n",
    "MODEL_PATH.mkdir(parents=True, exist_ok=True)\n",
    "\n",
    "# 2. Create model save path\n",
    "MODEL_NAME = \"01_PyTorch_Workflow_model_1.pth\"\n",
    "MODEL_SAVE_PATH = MODEL_PATH / MODEL_NAME\n",
    "print(f\"Saving model to: {MODEL_SAVE_PATH}\")\n",
    "\n",
    "# 3. Save the model state dict\n",
    "torch.save(obj=model_1.state_dict(), f=MODEL_SAVE_PATH)\n",
    "print(f\"Model saved\")\n"
   ]
  },
  {
   "cell_type": "code",
   "execution_count": 44,
   "metadata": {},
   "outputs": [
    {
     "data": {
      "text/plain": [
       "device(type='cpu')"
      ]
     },
     "execution_count": 44,
     "metadata": {},
     "output_type": "execute_result"
    }
   ],
   "source": [
    "# Load a PyTorch model\n",
    "\n",
    "# Create a new istance of linear regression model V2\n",
    "loaded_model_1 = LinearRegressionModelv2()\n",
    "\n",
    "# Load the saved model_1 state dict\n",
    "loaded_model_1.load_state_dict(torch.load(MODEL_SAVE_PATH))\n",
    "\n",
    "# Put the loaded model to the device\n",
    "loaded_model_1.to(device)\n",
    "next(loaded_model_1.parameters()).device"
   ]
  },
  {
   "cell_type": "code",
   "execution_count": 45,
   "metadata": {},
   "outputs": [
    {
     "name": "stdout",
     "output_type": "stream",
     "text": [
      "model_1 state_dict(): OrderedDict([('linear_layer.weight', tensor([[0.6968]])), ('linear_layer.bias', tensor([0.3025]))])\n",
      "loaded_model_1 state_dict(): OrderedDict([('linear_layer.weight', tensor([[0.6968]])), ('linear_layer.bias', tensor([0.3025]))])\n"
     ]
    }
   ],
   "source": [
    "print(f\"model_1 state_dict(): {model_1.state_dict()}\")\n",
    "print(f\"loaded_model_1 state_dict(): {loaded_model_1.state_dict()}\")"
   ]
  },
  {
   "cell_type": "code",
   "execution_count": 46,
   "metadata": {},
   "outputs": [
    {
     "data": {
      "text/plain": [
       "tensor([[True],\n",
       "        [True],\n",
       "        [True],\n",
       "        [True],\n",
       "        [True],\n",
       "        [True],\n",
       "        [True],\n",
       "        [True],\n",
       "        [True],\n",
       "        [True]])"
      ]
     },
     "execution_count": 46,
     "metadata": {},
     "output_type": "execute_result"
    }
   ],
   "source": [
    "# Evaluate loaded model\n",
    "loaded_model_1.eval()\n",
    "with torch.inference_mode():\n",
    "    loaded_model_1_preds = loaded_model_1(X_test)\n",
    "\n",
    "y_preds_model_1 == loaded_model_1_preds"
   ]
  },
  {
   "cell_type": "markdown",
   "metadata": {},
   "source": [
    "## **Exercises**"
   ]
  },
  {
   "cell_type": "markdown",
   "metadata": {},
   "source": [
    "#### 1. Create a straight line dataset using the linear regression formula (`weight * X + bias`)\n",
    "* Set `weight=0.3` and `bias=0.9` there should be at least 100 datapoints total\n",
    "* Split the data into 80% training, 20% testing\n",
    "* Plot the training and testing data so it becomes visual"
   ]
  },
  {
   "cell_type": "code",
   "execution_count": 47,
   "metadata": {},
   "outputs": [],
   "source": [
    "weight = 0.3\n",
    "bias = 0.9\n",
    "start = 0\n",
    "end = 1\n",
    "step = 0.01\n",
    "\n",
    "X = torch.arange(start, end, step).unsqueeze(dim=1) # Because PyTorch models want tensor in input (not array 1-dim)\n",
    "y = weight * X + bias\n",
    "\n",
    "split = int(0.8 * len(X))\n",
    "X_train, y_train = X[:split], y[:split]\n",
    "X_test, y_test = X[split:], y[split:]"
   ]
  },
  {
   "cell_type": "code",
   "execution_count": 48,
   "metadata": {},
   "outputs": [],
   "source": [
    "def plot_predictionsExercise(train_data=X_train, train_labels=y_train, test_data=X_test, test_labels=y_test, predictions=None):\n",
    "    plt.figure(figsize=(8,6))\n",
    "    \n",
    "    # Plot training data in blue\n",
    "    plt.scatter(train_data, train_labels, c=\"b\", s=4, label=\"Training data\")\n",
    "\n",
    "    # Plot test data in green\n",
    "    plt.scatter(test_data, test_labels, c=\"g\", s=4, label=\"Testing data\")\n",
    "\n",
    "    # Are there predictions?\n",
    "    if predictions is not None:\n",
    "        # Plot the predictions is they exist\n",
    "        plt.scatter(test_data, predictions, c=\"r\", s=4, label=\"Predictions\")\n",
    "    \n",
    "    #Show the legend\n",
    "    plt.legend(prop={\"size\":14})\n",
    "\n",
    "    plt.show()"
   ]
  },
  {
   "cell_type": "code",
   "execution_count": 49,
   "metadata": {},
   "outputs": [
    {
     "data": {
      "image/png": "[encoded data removed]",
      "text/plain": [
       "<Figure size 800x600 with 1 Axes>"
      ]
     },
     "metadata": {},
     "output_type": "display_data"
    }
   ],
   "source": [
    "plot_predictionsExercise(X_train, y_train, X_test, y_test)"
   ]
  },
  {
   "cell_type": "markdown",
   "metadata": {},
   "source": [
    "#### 2. Build a PyTorch model by subclassing `nn.Module`\n",
    "* Inside should be a randomly initialized `nn.Parameter()` with `requires_grad=True`, one for `weights` and one for `bias`\n",
    "* Implement the `forward()` method to compute the linear regression function you used to create the dataset in 1\n",
    "* Once you've constructed the model, make an instance of it and check its `state_dict()`\n",
    "* Note: If you'd like to use `nn.Linear()` instead of `nn.Parameter()` you can"
   ]
  },
  {
   "cell_type": "code",
   "execution_count": 50,
   "metadata": {},
   "outputs": [
    {
     "data": {
      "text/plain": [
       "OrderedDict([('linear_layer.weight', tensor([[0.5823]])),\n",
       "             ('linear_layer.bias', tensor([0.2837]))])"
      ]
     },
     "execution_count": 50,
     "metadata": {},
     "output_type": "execute_result"
    }
   ],
   "source": [
    "class LinearRegressionModelExercise(nn.Module):\n",
    "    def __init__(self):\n",
    "        super().__init__()\n",
    "\n",
    "        # nn.Linear has requires_grad=True by defualt\n",
    "        self.linear_layer = nn.Linear(in_features=1, out_features=1) \n",
    "\n",
    "    def forward(self, x: torch.Tensor) -> torch.Tensor:\n",
    "        return self.linear_layer(x)\n",
    "    \n",
    "torch.manual_seed(37)\n",
    "model_exercise = LinearRegressionModelExercise()\n",
    "model_exercise.state_dict()"
   ]
  },
  {
   "cell_type": "markdown",
   "metadata": {},
   "source": [
    "#### 3. Create a loss function and optimizer using `nn.L1Loss()` and `torch.optim.SGD(params, lr)` respectively\n",
    "* Set the learning rate of the optimizer to be 0.01 and the parameters to optimize should be the model parameters from the model you created in 2\n",
    "* Write a training loop to perform the appropriate training steps for 300 epochs\n",
    "* The training loop should test the model on the test dataset every 20 epochs"
   ]
  },
  {
   "cell_type": "code",
   "execution_count": 51,
   "metadata": {},
   "outputs": [
    {
     "name": "stdout",
     "output_type": "stream",
     "text": [
      "Epoch: 0 | Loss: 0.5047718286514282 | Test loss: 0.3501056730747223\n",
      "Model parameters: OrderedDict([('linear_layer.weight', tensor([[0.5862]])), ('linear_layer.bias', tensor([0.2937]))])\n",
      "\n",
      "Epoch: 20 | Loss: 0.2735670208930969 | Test loss: 0.07940086722373962\n",
      "Model parameters: OrderedDict([('linear_layer.weight', tensor([[0.6652]])), ('linear_layer.bias', tensor([0.4937]))])\n",
      "\n",
      "Epoch: 40 | Loss: 0.10264377295970917 | Test loss: 0.13547955453395844\n",
      "Model parameters: OrderedDict([('linear_layer.weight', tensor([[0.7198]])), ('linear_layer.bias', tensor([0.6597]))])\n",
      "\n",
      "Epoch: 60 | Loss: 0.08341924846172333 | Test loss: 0.17673270404338837\n",
      "Model parameters: OrderedDict([('linear_layer.weight', tensor([[0.7047]])), ('linear_layer.bias', tensor([0.7145]))])\n",
      "\n",
      "Epoch: 80 | Loss: 0.07591880112886429 | Test loss: 0.17359714210033417\n",
      "Model parameters: OrderedDict([('linear_layer.weight', tensor([[0.6747]])), ('linear_layer.bias', tensor([0.7382]))])\n",
      "\n",
      "Epoch: 100 | Loss: 0.06903854012489319 | Test loss: 0.15934045612812042\n",
      "Model parameters: OrderedDict([('linear_layer.weight', tensor([[0.6412]])), ('linear_layer.bias', tensor([0.7540]))])\n",
      "\n",
      "Epoch: 120 | Loss: 0.06218450143933296 | Test loss: 0.14404526352882385\n",
      "Model parameters: OrderedDict([('linear_layer.weight', tensor([[0.6073]])), ('linear_layer.bias', tensor([0.7690]))])\n",
      "\n",
      "Epoch: 140 | Loss: 0.055330462753772736 | Test loss: 0.12875010073184967\n",
      "Model parameters: OrderedDict([('linear_layer.weight', tensor([[0.5735]])), ('linear_layer.bias', tensor([0.7840]))])\n",
      "\n",
      "Epoch: 160 | Loss: 0.048476435244083405 | Test loss: 0.1134549155831337\n",
      "Model parameters: OrderedDict([('linear_layer.weight', tensor([[0.5396]])), ('linear_layer.bias', tensor([0.7990]))])\n",
      "\n",
      "Epoch: 180 | Loss: 0.041624344885349274 | Test loss: 0.09747178852558136\n",
      "Model parameters: OrderedDict([('linear_layer.weight', tensor([[0.5056]])), ('linear_layer.bias', tensor([0.8135]))])\n",
      "\n",
      "Epoch: 200 | Loss: 0.03477218747138977 | Test loss: 0.08148825168609619\n",
      "Model parameters: OrderedDict([('linear_layer.weight', tensor([[0.4715]])), ('linear_layer.bias', tensor([0.8280]))])\n",
      "\n",
      "Epoch: 220 | Loss: 0.027921000495553017 | Test loss: 0.06516069173812866\n",
      "Model parameters: OrderedDict([('linear_layer.weight', tensor([[0.4373]])), ('linear_layer.bias', tensor([0.8422]))])\n",
      "\n",
      "Epoch: 240 | Loss: 0.02106979303061962 | Test loss: 0.04883313179016113\n",
      "Model parameters: OrderedDict([('linear_layer.weight', tensor([[0.4032]])), ('linear_layer.bias', tensor([0.8565]))])\n",
      "\n",
      "Epoch: 260 | Loss: 0.014217624440789223 | Test loss: 0.0328495092689991\n",
      "Model parameters: OrderedDict([('linear_layer.weight', tensor([[0.3691]])), ('linear_layer.bias', tensor([0.8710]))])\n",
      "\n",
      "Epoch: 280 | Loss: 0.007366422563791275 | Test loss: 0.016521941870450974\n",
      "Model parameters: OrderedDict([('linear_layer.weight', tensor([[0.3350]])), ('linear_layer.bias', tensor([0.8852]))])\n",
      "\n"
     ]
    }
   ],
   "source": [
    "loss_fn = nn.L1Loss()\n",
    "optimizer = torch.optim.SGD(params=model_exercise.parameters(), lr=0.01)\n",
    "\n",
    "### Training loop\n",
    "torch.manual_seed(37)\n",
    "\n",
    "epochs = 300\n",
    "\n",
    "for epoch in range(epochs):\n",
    "    model_exercise.train()\n",
    "    y_pred = model_exercise(X_train)\n",
    "    loss = loss_fn(y_pred, y_train)\n",
    "    optimizer.zero_grad()\n",
    "    loss.backward()\n",
    "    optimizer.step()\n",
    "\n",
    "    if epoch % 20 == 0:\n",
    "        ### Testing\n",
    "        model_exercise.eval()\n",
    "        with torch.inference_mode():\n",
    "            test_pred = model_exercise(X_test)\n",
    "            test_loss = loss_fn(test_pred, y_test)\n",
    "            print(f\"Epoch: {epoch} | Loss: {loss} | Test loss: {test_loss}\")\n",
    "            print(f\"Model parameters: {model_exercise.state_dict()}\\n\")"
   ]
  },
  {
   "cell_type": "markdown",
   "metadata": {},
   "source": [
    "#### 4. Make predictions with the trained model on the test data.\n",
    "* Visualize these predictions against the original training and testing data (note: you may need to make sure the predictions are not on the GPU if you want to use non-CUDA-enabled libraries such as matplotlib to plot)."
   ]
  },
  {
   "cell_type": "code",
   "execution_count": 54,
   "metadata": {},
   "outputs": [
    {
     "data": {
      "image/png": "[encoded data removed]",
      "text/plain": [
       "<Figure size 800x600 with 1 Axes>"
      ]
     },
     "metadata": {},
     "output_type": "display_data"
    }
   ],
   "source": [
    "model_exercise.eval()\n",
    "with torch.inference_mode():\n",
    "    y_preds_model_exercise = model_exercise(X_test)\n",
    "\n",
    "plot_predictionsExercise(predictions=y_preds_model_exercise)"
   ]
  },
  {
   "cell_type": "markdown",
   "metadata": {},
   "source": [
    "#### 5. Save your trained model's `state_dict()` to file.\n",
    "* Create a new instance of your model class you made in 2. and load in the `state_dict()` you just saved to it.\n",
    "* Perform predictions on your test data with the loaded model and confirm they match the original model predictions from 4."
   ]
  },
  {
   "cell_type": "code",
   "execution_count": 53,
   "metadata": {},
   "outputs": [
    {
     "name": "stdout",
     "output_type": "stream",
     "text": [
      "Saving model to: models\\01_PyTorch_Workflow_model_exercise.pth\n",
      "Model saved\n"
     ]
    },
    {
     "data": {
      "text/plain": [
       "tensor([[True],\n",
       "        [True],\n",
       "        [True],\n",
       "        [True],\n",
       "        [True],\n",
       "        [True],\n",
       "        [True],\n",
       "        [True],\n",
       "        [True],\n",
       "        [True],\n",
       "        [True],\n",
       "        [True],\n",
       "        [True],\n",
       "        [True],\n",
       "        [True],\n",
       "        [True],\n",
       "        [True],\n",
       "        [True],\n",
       "        [True],\n",
       "        [True]])"
      ]
     },
     "execution_count": 53,
     "metadata": {},
     "output_type": "execute_result"
    }
   ],
   "source": [
    "# Save the model state dict\n",
    "MODEL_PATH = Path(\"models\")\n",
    "MODEL_PATH.mkdir(parents=True, exist_ok=True)\n",
    "MODEL_NAME = \"01_PyTorch_Workflow_model_exercise.pth\"\n",
    "MODEL_SAVE_PATH = MODEL_PATH / MODEL_NAME\n",
    "print(f\"Saving model to: {MODEL_SAVE_PATH}\")\n",
    "torch.save(obj=model_exercise.state_dict(), f=MODEL_SAVE_PATH)\n",
    "print(f\"Model saved\")\n",
    "\n",
    "# Create a new istance of the exercise's model\n",
    "loaded_model_exercise = LinearRegressionModelExercise()\n",
    "\n",
    "# Load the saved model_exercise state dict\n",
    "loaded_model_exercise.load_state_dict(torch.load(MODEL_SAVE_PATH))\n",
    "\n",
    "# Evaluate loaded model\n",
    "loaded_model_exercise.eval()\n",
    "with torch.inference_mode():\n",
    "    loaded_model_exercise_preds = loaded_model_exercise(X_test)\n",
    "\n",
    "y_preds_model_exercise == loaded_model_exercise_preds"
   ]
  }
 ],
 "metadata": {
  "kernelspec": {
   "display_name": "Python 3",
   "language": "python",
   "name": "python3"
  },
  "language_info": {
   "codemirror_mode": {
    "name": "ipython",
    "version": 3
   },
   "file_extension": ".py",
   "mimetype": "text/x-python",
   "name": "python",
   "nbconvert_exporter": "python",
   "pygments_lexer": "ipython3",
   "version": "3.11.9"
  }
 },
 "nbformat": 4,
 "nbformat_minor": 2
}
